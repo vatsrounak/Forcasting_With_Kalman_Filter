{
 "cells": [
  {
   "cell_type": "code",
   "execution_count": 1,
   "metadata": {
    "slideshow": {
     "slide_type": "skip"
    }
   },
   "outputs": [],
   "source": [
    "%matplotlib inline\n",
    "import matplotlib.pyplot as plt\n",
    "import numpy as np\n"
   ]
  },
  {
   "cell_type": "markdown",
   "metadata": {
    "slideshow": {
     "slide_type": "slide"
    }
   },
   "source": []
  },
  {
   "cell_type": "markdown",
   "metadata": {
    "slideshow": {
     "slide_type": "slide"
    }
   },
   "source": [
    "<h1><center>Differential Privacy</center></h1>\n",
    "<h2><center>Cynthia Dwork</center></h2>\n",
    "\n",
    "Presented by Mike Mull (@kwikstep)"
   ]
  },
  {
   "cell_type": "markdown",
   "metadata": {
    "slideshow": {
     "slide_type": "notes"
    }
   },
   "source": [
    "Cynthia Dwork is a researcher with Microsoft.  She's one of the originators of differential privacy as well as the concept of proof-of-work (for spam prevention)"
   ]
  },
  {
   "cell_type": "markdown",
   "metadata": {
    "slideshow": {
     "slide_type": "slide"
    }
   },
   "source": [
    "## The Problem\n",
    "\n",
    "> \" the goal of a privacy-preserving __statistical__ database is to enable the user to learn properties of the population as a whole, while protecting the privacy of the individuals in the sample\""
   ]
  },
  {
   "cell_type": "markdown",
   "metadata": {
    "slideshow": {
     "slide_type": "notes"
    }
   },
   "source": [
    "The key word here is _statistical_.  The privacy being protected is the privacy of individuals with respect to statistical queries (counts, sums, means, etc).  These are usually not databases that allow you to look up an individual by a name or an SSN; _and_ it's often the case that the database user is someone beyond the control of the data curator."
   ]
  },
  {
   "cell_type": "markdown",
   "metadata": {
    "slideshow": {
     "slide_type": "slide"
    }
   },
   "source": [
    "### Why (I Think) This Paper is Interesting\n",
    "- It is surprising (to me) that basic anonymization techniques do not suffice for privacy\n",
    "- Privacy method that does not directly use cryptography\n",
    "   - As opposed to encryption, secure function computation, zero-knowledge proofs\n",
    "- A research result with interesting practical uses (as well as applications to other research problems)\n",
    "- Topical: actually came up at a Senate data privacy hearing about a week ago (Sept. 26, 2018)\n",
    "- I'm a bit of a privacy freak\n"
   ]
  },
  {
   "cell_type": "markdown",
   "metadata": {
    "slideshow": {
     "slide_type": "slide"
    }
   },
   "source": [
    "### Outline\n",
    "\n",
    "- Introduce the basics of privacy in statistical databases\n",
    "- Informally cover the _impossibility proof_\n",
    "- The formal definition of differential privacy\n",
    "- Discuss methods for achieving differential privacy\n",
    "\n",
    "\n",
    "### Objectives\n",
    "- Show that privacy is not guaranteed by removing personally-identifiable info\n",
    "- Understand that this method is _randomized_\n",
    "- Understand that differential privacy involves trade-offs between privacy and accuracy\n",
    "- Talk about composability and privacy budgets\n",
    "- Don't talk about hash functions (inside joke)"
   ]
  },
  {
   "cell_type": "markdown",
   "metadata": {
    "slideshow": {
     "slide_type": "slide"
    }
   },
   "source": [
    "## What Is Privacy?\n",
    "\n",
    "### Dalenius\n",
    "(_T. Dalenius, Towards a methodology for statistical disclosure control. StatistikTidskrift 15, pp. 429–222, 1977_)\n",
    "> \" access to a statistical database should not enable one to learn anything about an individual that could not be learned without access\"\n",
    "\n",
    "\n",
    "### ...but...\n",
    "> \"We show this type of privacy cannot be achieved. The obstacle is in auxiliary information, that is, information available to the adversary other than from access to the statistical database\""
   ]
  },
  {
   "cell_type": "markdown",
   "metadata": {
    "slideshow": {
     "slide_type": "notes"
    }
   },
   "source": [
    "Dalenius stated the desired goal in a 1977 paper, which is unfortunately not online.  His stated goal anticipates what would later be called _semantic security_, which i'll cover below.\n",
    "\n",
    "Dwork shows that the goal of Dalenius is impossible, for two reasons.  One is that the information conveyed by the privacy mechanism must have _utility_ to the person querying the database, which might be a legitimate analyst or an adversary looking to find a privacy breach.  The other is that _auxiliary information_ could be available that enables the adversary to breach privacy.\n"
   ]
  },
  {
   "cell_type": "markdown",
   "metadata": {
    "slideshow": {
     "slide_type": "slide"
    }
   },
   "source": [
    "## Differential Privacy\n",
    "\n",
    ">  \"the risk to one’s privacy, or in general, any type of risk, such as the risk of being denied automobile insurance, should not substantially increase as a result of participating in a statistical database\""
   ]
  },
  {
   "cell_type": "markdown",
   "metadata": {
    "slideshow": {
     "slide_type": "notes"
    }
   },
   "source": [
    "The ideal goal of Dalenius being impossible, Dwork (and Frank McSherry) proposed differential privacy.  It is _differential_ privacy because it promises that queries to this database will not be detectable different if one individual's data is added or removed.\n",
    "\n",
    "Note that you might decide that you're OK with the privacy risks and so you give the study conductors a waiver to use your data provided they remove your PII.  But there might be consequences you don't expect down the line.  In her book on the topic Dwork says \"ordinary facts are not OK\".  She gives the example of a study that follows grocery purchases.  A participant that stops buying bread might be signaling a health issue.  The legal approach doesn't really work for the creators of the study either, since as my sister the lawyer says \"You can't give people permission to be negligent\""
   ]
  },
  {
   "cell_type": "markdown",
   "metadata": {
    "slideshow": {
     "slide_type": "slide"
    }
   },
   "source": [
    "### Semantic Security\n",
    "\n",
    "From Wikipedia:\n",
    "> In cryptography, a semantically secure cryptosystem is one where only negligible information about the plaintext can be feasibly extracted from the ciphertext. \n",
    "\n",
    "From _Introduction to Modern Cryptography_:\n",
    "> an encryption scheme is secure if no adversary can compute any function of the plaintext from the ciphertext.\n"
   ]
  },
  {
   "cell_type": "markdown",
   "metadata": {
    "slideshow": {
     "slide_type": "notes"
    }
   },
   "source": [
    "As mentioned above, the ideal privacy goal of Dalenius is similar to _semantic security_, and idea proposed in the early 80s to establish a realizable goal for encryption, since perfect secrecy is impractical.  I state the idea informally here leading up to the impossibility proof."
   ]
  },
  {
   "cell_type": "markdown",
   "metadata": {
    "slideshow": {
     "slide_type": "slide"
    }
   },
   "source": [
    "## Why Is Absolute Disclosure Prevention Impossible?\n",
    "\n",
    "- Is it Terry Gross's fault?\n",
    "  - The problem is _auxiliary information_ (Terry Gross is 2 inches shorter than the average Lithuanian woman)\n",
    "  - With the auxiliary information _and_ access to the database through the privacy mechanism, privacy is breachable\n",
    "  - With the auxiliary information no access to the database through the privacy mechanism, privacy is safe\n",
    "- Contrast with another formulation of _semantic security_\n",
    "  - Suppose i have information that i pass to an eavesdropper: the message is either _dog_ or _cat_\n",
    "  - The eavesdropper can't determine which message it is from the cyphertext\n"
   ]
  },
  {
   "cell_type": "markdown",
   "metadata": {
    "slideshow": {
     "slide_type": "slide"
    }
   },
   "source": [
    "### Interactive vs Non-Interactive\n",
    "\n",
    "- Interactive: A process sitting in front of the actual database that can analyze a query before applying the privacy mechanism\n",
    "- Non-Interactive: Data that has been\n",
    "   - \"Anonymized\" or \"de-identified\" by removing names, zip codes, etc.\n",
    "   - Perturbed\n",
    "   - Sampled"
   ]
  },
  {
   "cell_type": "markdown",
   "metadata": {
    "slideshow": {
     "slide_type": "slide"
    }
   },
   "source": [
    "### Types of Privacy Breach\n",
    "- Linkage attack\n",
    "   - Latanya Sweeney's deanonymizing attack connecting voter records to anonymized medical data\n",
    "   - The Netflix challenge dataset\n",
    "- Differencing attack\n",
    "- Reconstruction attack"
   ]
  },
  {
   "cell_type": "markdown",
   "metadata": {
    "slideshow": {
     "slide_type": "slide"
    }
   },
   "source": [
    "## The Impossibility Proof\n",
    "\n",
    "The approach of the proof is to prove something that's contrary to the goal of Dalenius, using a technique that's similar to a proof of semantic security\n",
    "- For semantic security: an adversary that receives cyphertext has no advantage over adversary simulator that receives nothing\n",
    "- For privacy disclosure: in contrast, an adversary that receives the output of the privacy mechanism has an arbitrarily large advantage over an adversary simulator\n",
    "  "
   ]
  },
  {
   "cell_type": "markdown",
   "metadata": {
    "slideshow": {
     "slide_type": "notes"
    }
   },
   "source": [
    "The proof method in the paper probably looks very familiar to a cryptography researcher, but looks absolutely wacky to a neophyte.  "
   ]
  },
  {
   "cell_type": "markdown",
   "metadata": {
    "slideshow": {
     "slide_type": "slide"
    }
   },
   "source": [
    "### The Adversary Simulator\n",
    "> the definition of semantic security for encryption compares what can be learned by an adversary\n",
    "who receives a real ciphertext to what can be learned by an adversary who receives nothing. The\n",
    "definition states that an encryption scheme is secure if they can both learn approximately the same\n",
    "amount of information. This is very strange.\n",
    "\n",
    "[How To Simulate It – A Tutorial on the Simulation Proof Technique](https://eprint.iacr.org/2016/046.pdf), Yehuda Lindell, Feb. 2018"
   ]
  },
  {
   "cell_type": "markdown",
   "metadata": {
    "slideshow": {
     "slide_type": "slide"
    }
   },
   "source": [
    "### The Pieces Needed For the Proof\n",
    "- Database/Database distribution\n",
    "- Privacy/sanitization mechanism\n",
    "   - MUST be randomized\n",
    "- Utility vector\n",
    "- Privacy breach\n",
    "- Auxiliary information generator\n",
    "- Adversary\n",
    "- Adversary Simulator"
   ]
  },
  {
   "cell_type": "markdown",
   "metadata": {
    "slideshow": {
     "slide_type": "slide"
    }
   },
   "source": [
    "<img src='./DifferentialPrivacy.png'>"
   ]
  },
  {
   "cell_type": "markdown",
   "metadata": {
    "slideshow": {
     "slide_type": "slide"
    }
   },
   "source": [
    "### The Utility Vector\n",
    "\n",
    ">  it is clear that for the mechanism to be useful its output\n",
    "should not be predictable by the user; in the case of randomized mechanisms the\n",
    "same is true, but the unpredictability must not stem only from random choices\n",
    "made by the mechanism.\n",
    "\n",
    "> We can think of the utility vector as answers to questions about the data\n"
   ]
  },
  {
   "cell_type": "markdown",
   "metadata": {
    "slideshow": {
     "slide_type": "notes"
    }
   },
   "source": [
    "The _utility vector_ is the answer to a query of the database through the privacy mechanism. This is probably the key piece that distinguishes this scenario from standard encryption. For the proof they formalize it as a bit vector, but you can think of it as a record or set of records.\n",
    "\n",
    "The point i think they are trying to make here is that the privacy mechanism provides utility to the user/adversary, because it enables them to learn the answers to questions that are not otherwise learnable.  Cyphertex obviously need not have such a propery for an eavesdropper."
   ]
  },
  {
   "cell_type": "markdown",
   "metadata": {
    "slideshow": {
     "slide_type": "slide"
    }
   },
   "source": [
    "### Assumptions (very informally)\n",
    "- Any database drawn from the distribution of databases has a privacy breach of length l bits\n",
    "- The utility vector has enough randomness (entropy) to extract an l-bit uniform random variate\n",
    "   - The utility vector w will be longer than l bits and fairly random, but not uniformly\n",
    "- The chance of a function (Turing machine) finding a privacy breach with access through the privacy mechanism but without the auxiliary information is low"
   ]
  },
  {
   "cell_type": "markdown",
   "metadata": {
    "slideshow": {
     "slide_type": "notes"
    }
   },
   "source": [
    "These are fairly reasonable assumptions.  For example, if a database doesn't have a privacy breach, you might as well release the whole database (what constitutes a database with no privacy breach?). The last assumption is a \"non-triviality\" condition, that is, the assumption that the privacy mechanism does provide some reasonable privacy protection in the absence of the auxiliary info."
   ]
  },
  {
   "cell_type": "markdown",
   "metadata": {
    "slideshow": {
     "slide_type": "slide"
    }
   },
   "source": [
    "### The Easy Case\n",
    "- Auxiliary information generator finds a breach\n",
    "- From the utility vector it extracts a uniformly distributed random value __r__ using _randomness extractor_\n",
    "- Uses __r__ as a one-time pad to secretly pass the breach to the adversary\n",
    "- Adversary also gets __r__ from utility vector, and so can recover the breach\n"
   ]
  },
  {
   "cell_type": "markdown",
   "metadata": {
    "slideshow": {
     "slide_type": "notes"
    }
   },
   "source": [
    "This depends on something called a _strong randomness extractor_, which i won't talk about in detail (because hash functions).  The trick though is that it will generate an l-bit uniformly random value given that the utility vector has sufficient entropy."
   ]
  },
  {
   "cell_type": "markdown",
   "metadata": {
    "slideshow": {
     "slide_type": "slide"
    }
   },
   "source": [
    "### The Hard Case\n",
    "- Auxiliary info generator and adversary get different utility vectors, w and w'.\n",
    "- Use _fuzzy extractor_\n",
    "   - Fuzzy extractors came out of biometric research as a way to generate key values from fuzzy data\n",
    "- This case requires more entropy in the utility vector\n"
   ]
  },
  {
   "cell_type": "markdown",
   "metadata": {
    "slideshow": {
     "slide_type": "notes"
    }
   },
   "source": [
    "In the hard case, the utility vector cannot be totally \"learned\", which i think means the adversary and the auxiliary information generator do not get a \"true\" answer (ie, there is noise, but different noise for each)."
   ]
  },
  {
   "cell_type": "markdown",
   "metadata": {
    "slideshow": {
     "slide_type": "slide"
    }
   },
   "source": [
    "### Fuzzy Extractors\n",
    "\n",
    "Two procedures:\n",
    " - Randomized procedure __Gen(w)__ creates R and P\n",
    " - Deterministic procedure __Rec()__ that will return R given P and w' that's close enough to w"
   ]
  },
  {
   "cell_type": "markdown",
   "metadata": {
    "slideshow": {
     "slide_type": "notes"
    }
   },
   "source": [
    "The first time i Googled \"fuzzy extractor\" i got an advertisement for vacuum cleaners"
   ]
  },
  {
   "cell_type": "markdown",
   "metadata": {
    "slideshow": {
     "slide_type": "slide"
    }
   },
   "source": [
    "## The Formal Definition of Differential Privacy\n",
    "\n",
    "\n",
    "> A randomized function K gives &epsilon;-differential privacy if for all\n",
    "data sets D1 and D2 differing on at most one element, and all S ⊆ Range(K),\n",
    "\n",
    "\n",
    "$$\n",
    "Pr[K(D_1) \\in S] \\le exp(\\epsilon) \\times Pr[K(D_2) \\in S]\n",
    "$$\n",
    "\n",
    "In words, the probability of getting a particular query result from D1 is the same within a small factor of the probability of getting that result on D2"
   ]
  },
  {
   "cell_type": "markdown",
   "metadata": {
    "slideshow": {
     "slide_type": "notes"
    }
   },
   "source": [
    "It helps me to think about this in terms of a database with no privacy mechanism at all.  Suppose there's a database that has, among other fields, a field that specifies which Type 2 diabetes drug a patient takes, with NULL meaning none.  If patient X, who takes metformin, is in D1 but not in D2, then a query like __SELECT count(1) WHERE type2_drug IS NOT NULL__  will produce the value n+1 for D1 and n for D2.  In this case, the probability of getting n+1 for D2 is 0.  What can a randomized privacy mechanism do to mask this difference?  One possibility is the \"coin flip\" option.  For each record where the field is not null, the privacy mechanism would flip a coin to decide whether or not to include that record in the count."
   ]
  },
  {
   "cell_type": "markdown",
   "metadata": {
    "slideshow": {
     "slide_type": "slide"
    }
   },
   "source": [
    "### It's All About The Epsilon\n",
    "   - We want &epsilon; to be small for better privacy\n",
    "   - However, small epsilon might require more noise and so will affect accuracy\n",
    "   - &epsilon; is a parameter that can be chosen\n",
    "   - log of ratio sometimes referred to as _privacy loss_ or _leakage_\n",
    "   \n",
    "### For small &epsilon; exp(&epsilon;) is roughly equal to (1 + &epsilon;)"
   ]
  },
  {
   "cell_type": "code",
   "execution_count": 2,
   "metadata": {
    "slideshow": {
     "slide_type": "slide"
    }
   },
   "outputs": [
    {
     "data": {
      "image/png": "[encoded data removed]",
      "text/plain": [
       "<Figure size 864x360 with 1 Axes>"
      ]
     },
     "metadata": {
      "needs_background": "light"
     },
     "output_type": "display_data"
    }
   ],
   "source": [
    "fig, ax = plt.subplots(figsize=(12,5))\n",
    "x = np.arange(0,5.0,0.01)\n",
    "_ = ax.plot(x, [np.exp(e) for e in x])\n",
    "x = np.arange(0,5.0,0.01)\n",
    "_ = ax.plot(x, [1.0 + e for e in x])"
   ]
  },
  {
   "cell_type": "markdown",
   "metadata": {
    "slideshow": {
     "slide_type": "slide"
    }
   },
   "source": [
    "## L1 Sensitivity\n",
    "\n",
    "> We will achieve &epsilon;-differential privacy by the addition of __random noise__ whose\n",
    "magnitude is chosen as a function of the __largest change a single participant__ could have on the output to the query function; we refer to this quantity as the\n",
    "_sensitivity_ of the function\n",
    "\n",
    "\n",
    "### _Count queries have sensitivity <= 1_\n",
    "``` SELECT count(1) FROM secret_data WHERE risk_of_badness > 0.5 ```\n",
    "\n",
    "### _Other aggregates require analysis of the database_\n",
    "``` SELECT SUM(vodkas_per_day) FROM liver_study ```\n",
    "\n",
    "``` SELECT AVG(num_hashtags) FROM twitter_nonsense ```\n"
   ]
  },
  {
   "cell_type": "markdown",
   "metadata": {
    "slideshow": {
     "slide_type": "notes"
    }
   },
   "source": [
    "In other words, we want to add enough random noise to obscure the differences between D1 and D2, but we also want the answer to still be somewhat near the truth."
   ]
  },
  {
   "cell_type": "markdown",
   "metadata": {
    "slideshow": {
     "slide_type": "slide"
    }
   },
   "source": [
    "### What Sort of Noise?\n",
    "\n",
    "> The privacy mechanism, denoted Kf for a query function f, computes f(X) and adds noise with a scaled symmetric exponential distribution with variance σ\n",
    "\n",
    "aka, _Laplacian_"
   ]
  },
  {
   "cell_type": "code",
   "execution_count": 3,
   "metadata": {
    "slideshow": {
     "slide_type": "slide"
    }
   },
   "outputs": [
    {
     "data": {
      "image/png": "[encoded data removed]",
      "text/plain": [
       "<Figure size 432x288 with 1 Axes>"
      ]
     },
     "metadata": {
      "needs_background": "light"
     },
     "output_type": "display_data"
    }
   ],
   "source": [
    "x = np.arange(-10.0,10.0,1.0)\n",
    "_ = plt.plot(x, [np.exp(-np.abs(e - 0.0)) for e in x])\n",
    "_ = plt.plot(x, [np.exp(-np.abs(e - 0.0)/2)/2 for e in x])\n",
    "_ = plt.plot(x, [np.exp(-np.abs(e - 0.0)/10)/10 for e in x])"
   ]
  },
  {
   "cell_type": "markdown",
   "metadata": {
    "slideshow": {
     "slide_type": "notes"
    }
   },
   "source": [
    "_\"This distribution has independent coordinates, each of which is an exponentially\n",
    "distributed random variable. The implementation of this mechanism thus simply\n",
    "adds symmetric exponential noise to each coordinate of f(X)\"_ \n",
    "\n",
    "And, yes, this means that even queries that would normally have integral values might have fractional noise added."
   ]
  },
  {
   "cell_type": "markdown",
   "metadata": {
    "slideshow": {
     "slide_type": "slide"
    }
   },
   "source": [
    "### How Much Noise?\n",
    "\n",
    "> Theorem 4. For f : D → Rd, the mechanism Kf gives (__∆f /σ__)-differential privacy.\n",
    "\n",
    "> To achieve &epsilon;-differential privacy, one must choose σ ≥ &epsilon;/∆f."
   ]
  },
  {
   "cell_type": "markdown",
   "metadata": {
    "slideshow": {
     "slide_type": "notes"
    }
   },
   "source": [
    "So, for a count query (where delta f = 1) we need to set sigma = (1/e)\n",
    "\n",
    "The key thing to see here is that there's a tradeoff between privacy and noise.  If the function has high sensitivity, then to maintain privacy you have to choose a large sigma (more noise) to maintain the same epsilon.  "
   ]
  },
  {
   "cell_type": "code",
   "execution_count": 4,
   "metadata": {
    "slideshow": {
     "slide_type": "slide"
    }
   },
   "outputs": [
    {
     "data": {
      "image/png": "[encoded data removed]",
      "text/plain": [
       "<Figure size 864x360 with 3 Axes>"
      ]
     },
     "metadata": {
      "needs_background": "light"
     },
     "output_type": "display_data"
    }
   ],
   "source": [
    "f, (ax1, ax2, ax3) = plt.subplots(1, 3, sharey=True, figsize=(12,5))\n",
    "\n",
    "def plot_f(ax, epsilon):\n",
    "    d1 = np.random.laplace(10.0, 1.0 / epsilon, 10000)\n",
    "    _ = ax.hist(d1,bins=100)\n",
    "    d2 = np.random.laplace(11.0, 1.0 / epsilon, 10000)\n",
    "    _ = ax.hist(d2,bins=100)\n",
    "\n",
    "plot_f(ax1, 0.1)\n",
    "plot_f(ax2, 1.0)\n",
    "plot_f(ax3, 10.0)\n"
   ]
  },
  {
   "cell_type": "markdown",
   "metadata": {
    "slideshow": {
     "slide_type": "notes"
    }
   },
   "source": [
    "Going back to our example with counts n and n+1, suppose that n is 10.  These plots show 10000 applications of Laplacian noise with epsilon = 0.1, 1, 10 to counts 10 and 11.  You can see that if the analyst could make this many queries they could determine the true value in each database, but you can also see that if they have only 1 query it would be hard to determine which database gave the response."
   ]
  },
  {
   "cell_type": "markdown",
   "metadata": {
    "slideshow": {
     "slide_type": "slide"
    }
   },
   "source": [
    "### Histogram Queries\n",
    "\n",
    "```SELECT genre, COUNT(1) FROM track_play_history GROUP BY genre```\n",
    "\n",
    ">Viewed naıvely, this is a set of k queries, each of sensitivity 1, so to ensure &epsilon;-differential privacy it follows ... that it suffices to use noise distributed according to a symmetric exponential with variance k/&epsilon; in each component.\n",
    "\n",
    "> However, for any two databases D1 and D2 differing in only one element, ||f(D1) − f(D2)||<sub>1</sub> = 1, since only one cell of the histogram changes, and that cell only by 1."
   ]
  },
  {
   "cell_type": "markdown",
   "metadata": {
    "slideshow": {
     "slide_type": "notes"
    }
   },
   "source": [
    "I think they're trying to make the point here that you have to be careful in examining the sensitivity of a query, but they also make the point that successive queries require more noise, that is, k count queries would require k / epsilon noise to achieve epsilon-differential privacy.  This is also true if you let an analyst run k queries, or if you let k analysts run queries and then combine their results. I'll talk about this more below."
   ]
  },
  {
   "cell_type": "markdown",
   "metadata": {
    "slideshow": {
     "slide_type": "slide"
    }
   },
   "source": [
    "### Composition and Privacy Budgets\n",
    "\n",
    "Each successive query gives the analyst more information and increases the privacy risk\n",
    " - An &epsilon;<sub>1</sub> query followed by an &epsilon;<sub>2</sub> query is &epsilon;<sub>1</sub> + &epsilon;<sub>2</sub> differentially private.\n",
    " - Practical differentially privacy systems give the analyst a _privacy budget_ that limits the number of queries"
   ]
  },
  {
   "cell_type": "markdown",
   "metadata": {
    "slideshow": {
     "slide_type": "notes"
    }
   },
   "source": [
    "This is discussed directly in the paper, but the repeated application of the privacy mechanism is called _composition_, and it's one of the important features of differnential privacy that the risk to privacy is understood under composition, specifically it is linear in the number of queries."
   ]
  },
  {
   "cell_type": "markdown",
   "metadata": {
    "slideshow": {
     "slide_type": "slide"
    }
   },
   "source": [
    "### Adaptive Adversary\n",
    "\n",
    "> We define the sensitivity of a query strategy F = {fρ : D → (R+) d} to be the largest sensitivity of any of its possible functions"
   ]
  },
  {
   "cell_type": "markdown",
   "metadata": {
    "slideshow": {
     "slide_type": "notes"
    }
   },
   "source": [
    "An _adaptive_ adversary is one that is deciding on the query strategy in response to the noisy data returned by the privacy mechanism.  They prove that epsilon-differential privacy can be achieved here by choosing the maximum sensitivity of any of the query functions in the overall query strategy."
   ]
  },
  {
   "cell_type": "markdown",
   "metadata": {
    "slideshow": {
     "slide_type": "slide"
    }
   },
   "source": [
    "### Some Real World Uses\n",
    "- PINQ (Privacy Integrated Queries)\n",
    "- Uber\n",
    "- Apple, Google, Facebook"
   ]
  },
  {
   "cell_type": "markdown",
   "metadata": {
    "slideshow": {
     "slide_type": "slide"
    }
   },
   "source": [
    "<img src='./uberdiffpriv.png'>"
   ]
  },
  {
   "cell_type": "markdown",
   "metadata": {
    "slideshow": {
     "slide_type": "notes"
    }
   },
   "source": [
    "This is a diagram from an Uber blog post for a system they've been building with some Berkeley researchers."
   ]
  },
  {
   "cell_type": "markdown",
   "metadata": {
    "slideshow": {
     "slide_type": "slide"
    }
   },
   "source": [
    "## References\n",
    "\n",
    "- [Differential Privacy](https://www.microsoft.com/en-us/research/publication/differential-privacy/), Cynthia Dwork\n",
    "- [The Algorithmic Foundations of Differential Privacy](https://www.cis.upenn.edu/~aaroth/Papers/privacybook.pdf), Dwork\n",
    "- [On the Difficulty of Disclosure Prevention in Statistical Databases](http://www.wisdom.weizmann.ac.il/~naor/PAPERS/imp_disclosure.pdf), Cynthia Dwork, Moni Naor\n",
    "- [Differential Privacy In A Bit More Detail](https://desfontain.es/privacy/differential-privacy-in-more-detail.html)\n",
    "- [Uber Releases Open Source Project for Differential Privacy](https://medium.com/uber-security-privacy/differential-privacy-open-source-7892c82c42b6)\n",
    "- [How To Simulate It – A Tutorial on the Simulation Proof Technique](https://eprint.iacr.org/2016/046.pdf), Yehuda Lindell\n",
    "- [Towards Practical Differential Privacy for SQL Queries](https://arxiv.org/abs/1706.09479)\n",
    "- T. Dalenius, Towards a methodology for statistical disclosure control. StatistikTidskrift 15, pp. 429–222, 1977"
   ]
  },
  {
   "cell_type": "code",
   "execution_count": null,
   "metadata": {},
   "outputs": [],
   "source": []
  }
 ],
 "metadata": {
  "celltoolbar": "Slideshow",
  "kernelspec": {
   "display_name": "Python 3",
   "language": "python",
   "name": "python3"
  },
  "language_info": {
   "codemirror_mode": {
    "name": "ipython",
    "version": 3
   },
   "file_extension": ".py",
   "mimetype": "text/x-python",
   "name": "python",
   "nbconvert_exporter": "python",
   "pygments_lexer": "ipython3",
   "version": "3.7.0"
  }
 },
 "nbformat": 4,
 "nbformat_minor": 2
}
